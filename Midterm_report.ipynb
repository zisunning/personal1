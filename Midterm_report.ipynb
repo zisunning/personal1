{
  "nbformat": 4,
  "nbformat_minor": 0,
  "metadata": {
    "colab": {
      "name": "Midterm_report.ipynb",
      "provenance": [],
      "mount_file_id": "1fuaWwr2_ORLZ8X692IY5xAjBzk7ISvlx",
      "authorship_tag": "ABX9TyMaeXs5CI5Yk4CEB091SdWP",
      "include_colab_link": true
    },
    "kernelspec": {
      "name": "python3",
      "display_name": "Python 3"
    },
    "language_info": {
      "name": "python"
    }
  },
  "cells": [
    {
      "cell_type": "markdown",
      "metadata": {
        "id": "view-in-github",
        "colab_type": "text"
      },
      "source": [
        "<a href=\"https://colab.research.google.com/github/zisunning/personal1/blob/main/Midterm_report.ipynb\" target=\"_parent\"><img src=\"https://colab.research.google.com/assets/colab-badge.svg\" alt=\"Open In Colab\"/></a>"
      ]
    },
    {
      "cell_type": "code",
      "metadata": {
        "id": "1CzRCve_dbEx"
      },
      "source": [
        "import numpy as np\n",
        "import random"
      ],
      "execution_count": null,
      "outputs": []
    },
    {
      "cell_type": "code",
      "metadata": {
        "id": "c7VkyErSoRuh"
      },
      "source": [
        "def Q1() :\n",
        "  a = np.arange(1,65).reshape(8,8)\n",
        "  print(\"Original array A \\n\", a)\n",
        "  print(\"Shape of original :\", a.shape)\n",
        "  a=a.reshape(8,4,2)\n",
        "  print(\"Reshaped array A \\n\", a)\n",
        "  print(\"Shape of reshaped :\", a.shape)\n",
        "\n"
      ],
      "execution_count": null,
      "outputs": []
    },
    {
      "cell_type": "code",
      "metadata": {
        "id": "-wFKdakAqGHw"
      },
      "source": [
        "def Q2() :\n",
        "  c = np.arange(1,10001)\n",
        "  d = c[1::2]\n",
        "  print(d)"
      ],
      "execution_count": null,
      "outputs": []
    },
    {
      "cell_type": "code",
      "metadata": {
        "colab": {
          "base_uri": "https://localhost:8080/"
        },
        "id": "e3BzvdMBsozI",
        "outputId": "84c034fa-ce4b-4749-aeaf-a1dbba89f5d9"
      },
      "source": [
        "from google.colab import drive\n",
        "\n",
        "#load train data and label\n",
        "drive.mount('/content/drive')\n",
        "train_data_path = \"/content/drive/MyDrive/2021_ML/project/train_data.npy\"\n",
        "train_label_path = \"/content/drive/MyDrive/2021_ML/project/train_label.npy\"\n",
        "\n",
        "train_data = np.load(train_data_path, allow_pickle=True)\n",
        "train_label_rawdata = np.load(train_label_path, allow_pickle=True)  \n",
        "\n",
        "num_train_data = len(train_data)"
      ],
      "execution_count": null,
      "outputs": [
        {
          "output_type": "stream",
          "text": [
            "Drive already mounted at /content/drive; to attempt to forcibly remount, call drive.mount(\"/content/drive\", force_remount=True).\n"
          ],
          "name": "stdout"
        }
      ]
    },
    {
      "cell_type": "code",
      "metadata": {
        "colab": {
          "base_uri": "https://localhost:8080/"
        },
        "id": "hCU0z0nRsx_P",
        "outputId": "6968ac73-cfab-403f-88d0-8683c425b561"
      },
      "source": [
        "print(train_data.shape)"
      ],
      "execution_count": null,
      "outputs": [
        {
          "output_type": "stream",
          "text": [
            "(2682,)\n"
          ],
          "name": "stdout"
        }
      ]
    },
    {
      "cell_type": "code",
      "metadata": {
        "id": "5n__ml3ks1xA"
      },
      "source": [
        "def Q3() :\n",
        "  sequence_data = np.zeros(num_train_data)\n",
        "  for i in range(num_train_data):\n",
        "    temp_data = len(train_data[i])\n",
        "    sequence_data[i] = temp_data\n",
        "\n",
        "  longest_game = np.argmax(sequence_data)\n",
        "  print(\"Index of the longest : \", longest_game)\n",
        "  shortest_game = np.argmin(sequence_data)\n",
        "  print(\"Index of the shortest : \", shortest_game)"
      ],
      "execution_count": null,
      "outputs": []
    },
    {
      "cell_type": "code",
      "metadata": {
        "id": "JuPcQpM3lBrC"
      },
      "source": [
        "def Q4() :\n",
        "  k = random.randint(0,num_train_data)\n",
        "  dix_list = []\n",
        "  for i in range(10) :\n",
        "   for y in range(19) : \n",
        "      for x in range(19) : \n",
        "        if i == 0 :\n",
        "          if train_data[k][i][0][y][x] != 0 :\n",
        "            dix_list.append([y,x])\n",
        "        else : \n",
        "          if train_data[k][i][0][y][x] != train_data[k][i-1][0][y][x] :\n",
        "            dix_list.append([y,x])\n",
        "\n",
        "  print(dix_list)"
      ],
      "execution_count": null,
      "outputs": []
    },
    {
      "cell_type": "code",
      "metadata": {
        "id": "QhnZ1Rdx9hVQ"
      },
      "source": [
        "def Q5() : \n",
        "  count_list=[]\n",
        "  total = 0\n",
        "  for j in range(num_train_data) :\n",
        "    num = 0\n",
        "    for y in range(9) : \n",
        "      for x in range(9) : \n",
        "        if (train_data[j][-1][0][y][x] == 1) or (train_data[j][-1][0][y][x] == -1) :\n",
        "          num+=1\n",
        "    count_list.append(num)\n",
        "\n",
        "  game_idx = np.argmax(count_list)\n",
        "  small_num = count_list[game_idx]\n",
        "  for y in range(19) :\n",
        "     for x in range(19) :\n",
        "       if (train_data[game_idx][-1][0][y][x] == 1) or (train_data[game_idx][-1][0][y][x] == -1) :\n",
        "          total+=1\n",
        "\n",
        "  print(\"Index of the game :\", game_idx)\n",
        "  print(\"A/B :\", small_num / total)\n",
        "\n"
      ],
      "execution_count": null,
      "outputs": []
    },
    {
      "cell_type": "code",
      "metadata": {
        "colab": {
          "base_uri": "https://localhost:8080/"
        },
        "id": "b8mBVokxYKV8",
        "outputId": "549a4bd1-046a-49a3-dabc-dffeafc8c10b"
      },
      "source": [
        "def main() :\n",
        "  print(\"Question 1 : \")\n",
        "  Q1()\n",
        "  print(\"\\n\")\n",
        "  print(\"Question 2 : \")\n",
        "  Q2()\n",
        "  print(\"\\n\")\n",
        "  print(\"Question 3 : \")\n",
        "  Q3()\n",
        "  print(\"\\n\")\n",
        "  print(\"Question 4 : \")\n",
        "  Q4()\n",
        "  print(\"\\n\")\n",
        "  print(\"Question 5 : \")\n",
        "  Q5()\n",
        "\n",
        "\n",
        "if __name__ == \"__main__\":\n",
        "    main()\n"
      ],
      "execution_count": null,
      "outputs": [
        {
          "output_type": "stream",
          "text": [
            "Question 1 : \n",
            "Original array A \n",
            " [[ 1  2  3  4  5  6  7  8]\n",
            " [ 9 10 11 12 13 14 15 16]\n",
            " [17 18 19 20 21 22 23 24]\n",
            " [25 26 27 28 29 30 31 32]\n",
            " [33 34 35 36 37 38 39 40]\n",
            " [41 42 43 44 45 46 47 48]\n",
            " [49 50 51 52 53 54 55 56]\n",
            " [57 58 59 60 61 62 63 64]]\n",
            "Shape of original : (8, 8)\n",
            "Reshaped array A \n",
            " [[[ 1  2]\n",
            "  [ 3  4]\n",
            "  [ 5  6]\n",
            "  [ 7  8]]\n",
            "\n",
            " [[ 9 10]\n",
            "  [11 12]\n",
            "  [13 14]\n",
            "  [15 16]]\n",
            "\n",
            " [[17 18]\n",
            "  [19 20]\n",
            "  [21 22]\n",
            "  [23 24]]\n",
            "\n",
            " [[25 26]\n",
            "  [27 28]\n",
            "  [29 30]\n",
            "  [31 32]]\n",
            "\n",
            " [[33 34]\n",
            "  [35 36]\n",
            "  [37 38]\n",
            "  [39 40]]\n",
            "\n",
            " [[41 42]\n",
            "  [43 44]\n",
            "  [45 46]\n",
            "  [47 48]]\n",
            "\n",
            " [[49 50]\n",
            "  [51 52]\n",
            "  [53 54]\n",
            "  [55 56]]\n",
            "\n",
            " [[57 58]\n",
            "  [59 60]\n",
            "  [61 62]\n",
            "  [63 64]]]\n",
            "Shape of reshaped : (8, 4, 2)\n",
            "\n",
            "\n",
            "Question 2 : \n",
            "[    2     4     6 ...  9996  9998 10000]\n",
            "\n",
            "\n",
            "Question 3 : \n",
            "Index of the longest :  2678\n",
            "Index of the shortest :  2511\n",
            "\n",
            "\n",
            "Question 4 : \n",
            "[[3, 3], [3, 15], [15, 2], [16, 15], [14, 16], [10, 16], [5, 16], [7, 16], [16, 12], [15, 14]]\n",
            "\n",
            "\n",
            "Question 5 : \n",
            "Index of the game : 272\n",
            "A/B : 0.23076923076923078\n"
          ],
          "name": "stdout"
        }
      ]
    }
  ]
}